{
 "cells": [
  {
   "cell_type": "code",
   "execution_count": 1,
   "metadata": {
    "ExecuteTime": {
     "end_time": "2021-11-30T15:16:36.712830Z",
     "start_time": "2021-11-30T15:16:36.076505Z"
    }
   },
   "outputs": [],
   "source": [
    "import numpy as np\n",
    "import pandas as pd\n",
    "import scipy\n",
    "import sklearn\n",
    "import statsmodels.api as sm\n"
   ]
  },
  {
   "cell_type": "code",
   "execution_count": 2,
   "metadata": {
    "ExecuteTime": {
     "end_time": "2021-11-30T15:16:36.720604Z",
     "start_time": "2021-11-30T15:16:36.714301Z"
    }
   },
   "outputs": [],
   "source": [
    "\n",
    "def Fama_MacBeth(portfolio2,factor_model_raw):\n",
    "    ####此处factor_model为n*t矩阵，n为因子数目，t为时间范围\n",
    "    ####此处portfolio2为m*t矩阵，m为投资组合个数，t为时间范围\n",
    "    m=np.size(portfolio2,axis=0)\n",
    "    t=np.size(portfolio2,axis=1)\n",
    "    factor_model=factor_model_raw.copy().T\n",
    "    factor_model_name=list(factor_model.columns)\n",
    "    factor_model.columns=factor_model_name\n",
    "    ports_beta=pd.DataFrame(columns=factor_model_name)\n",
    "    estimates_lambda=pd.DataFrame(columns=factor_model_name)\n",
    "    R_squares=[]\n",
    "    regression_result=pd.DataFrame(columns=list(factor_model_name)+['R_squares'],index=['tvalues','estimate','R_squares'])\n",
    "    for num_port in range(0,m):\n",
    "        model1=sm.OLS(portfolio2.iloc[num_port,:].astype(float),np.array(factor_model).astype(float))\n",
    "        port_beta=model1.fit().params\n",
    "        port_beta.index=factor_model_name\n",
    "        ports_beta.loc[num_port,:]=port_beta\n",
    "    for time in range(0,t):\n",
    "        model2=sm.OLS(portfolio2.iloc[:,time].astype(float),np.array(ports_beta).astype(float))\n",
    "        estimate_lambda=model2.fit().params\n",
    "        estimate_lambda.index=ports_beta.columns\n",
    "        estimates_lambda.loc[time,:]=estimate_lambda\n",
    "        R_squares.append(model2.fit().rsquared_adj)\n",
    "    for factor in factor_model_name:\n",
    "            t = (np.mean(estimates_lambda[factor]))/(np.std(estimates_lambda[factor])/np.sqrt(len(estimates_lambda[factor])))\n",
    "            mean=np.mean(estimates_lambda[factor])\n",
    "            regression_result[factor]['tvalues']=t\n",
    "            regression_result[factor]['estimate']=mean\n",
    "    regression_result['R_squares']=np.mean(R_squares)\n",
    "    return regression_result"
   ]
  },
  {
   "cell_type": "code",
   "execution_count": 3,
   "metadata": {
    "ExecuteTime": {
     "end_time": "2021-11-30T15:16:37.790008Z",
     "start_time": "2021-11-30T15:16:36.722192Z"
    }
   },
   "outputs": [],
   "source": [
    "#导入收益数据和因子数据\n",
    "portfolio2=pd.read_excel(r'portfolio.xlsx',header=None)\n",
    "factorm=pd.read_excel(r'gefactor-beta.xlsx',header=None)\n",
    "\n"
   ]
  },
  {
   "cell_type": "code",
   "execution_count": 4,
   "metadata": {
    "ExecuteTime": {
     "end_time": "2021-11-30T15:16:37.808500Z",
     "start_time": "2021-11-30T15:16:37.791817Z"
    }
   },
   "outputs": [],
   "source": [
    "data_times='1/1/2006'\n",
    "data_timee='12/1/2017'\n",
    "time_seri_total=pd.date_range(start = '1/1/2000',end='12/1/2017',freq = 'MS')\n",
    "time_seri=pd.date_range(start = data_times,end=data_timee,freq = 'MS')\n",
    "data_ticks=np.where(time_seri_total==data_times)[0][0]\n",
    "data_ticke=np.where(time_seri_total==data_timee)[0][0]\n",
    "copyfactor=factorm.copy()\n",
    "copyportfolio2=portfolio2.copy()\n",
    "portfolio2=portfolio2.iloc[:,data_ticks:data_ticke+1]\n",
    "factorm=pd.DataFrame(np.array(pd.concat([factorm.copy().iloc[:,0:2],factorm.copy().iloc[:,data_ticks+2:data_ticke+3]],axis=1)))\n"
   ]
  },
  {
   "cell_type": "code",
   "execution_count": 5,
   "metadata": {
    "ExecuteTime": {
     "end_time": "2021-11-30T15:16:37.840890Z",
     "start_time": "2021-11-30T15:16:37.810077Z"
    }
   },
   "outputs": [
    {
     "data": {
      "text/html": [
       "<div>\n",
       "<style scoped>\n",
       "    .dataframe tbody tr th:only-of-type {\n",
       "        vertical-align: middle;\n",
       "    }\n",
       "\n",
       "    .dataframe tbody tr th {\n",
       "        vertical-align: top;\n",
       "    }\n",
       "\n",
       "    .dataframe thead th {\n",
       "        text-align: right;\n",
       "    }\n",
       "</style>\n",
       "<table border=\"1\" class=\"dataframe\">\n",
       "  <thead>\n",
       "    <tr style=\"text-align: right;\">\n",
       "      <th></th>\n",
       "      <th>2006-01-01</th>\n",
       "      <th>2006-02-01</th>\n",
       "      <th>2006-03-01</th>\n",
       "      <th>2006-04-01</th>\n",
       "      <th>2006-05-01</th>\n",
       "      <th>2006-06-01</th>\n",
       "      <th>2006-07-01</th>\n",
       "      <th>2006-08-01</th>\n",
       "      <th>2006-09-01</th>\n",
       "      <th>2006-10-01</th>\n",
       "      <th>...</th>\n",
       "      <th>2017-03-01</th>\n",
       "      <th>2017-04-01</th>\n",
       "      <th>2017-05-01</th>\n",
       "      <th>2017-06-01</th>\n",
       "      <th>2017-07-01</th>\n",
       "      <th>2017-08-01</th>\n",
       "      <th>2017-09-01</th>\n",
       "      <th>2017-10-01</th>\n",
       "      <th>2017-11-01</th>\n",
       "      <th>2017-12-01</th>\n",
       "    </tr>\n",
       "    <tr>\n",
       "      <th>0</th>\n",
       "      <th></th>\n",
       "      <th></th>\n",
       "      <th></th>\n",
       "      <th></th>\n",
       "      <th></th>\n",
       "      <th></th>\n",
       "      <th></th>\n",
       "      <th></th>\n",
       "      <th></th>\n",
       "      <th></th>\n",
       "      <th></th>\n",
       "      <th></th>\n",
       "      <th></th>\n",
       "      <th></th>\n",
       "      <th></th>\n",
       "      <th></th>\n",
       "      <th></th>\n",
       "      <th></th>\n",
       "      <th></th>\n",
       "      <th></th>\n",
       "      <th></th>\n",
       "    </tr>\n",
       "  </thead>\n",
       "  <tbody>\n",
       "    <tr>\n",
       "      <th>ana</th>\n",
       "      <td>-0.113058</td>\n",
       "      <td>-0.0124199</td>\n",
       "      <td>-0.0085909</td>\n",
       "      <td>-0.0976053</td>\n",
       "      <td>-0.226064</td>\n",
       "      <td>-0.0272245</td>\n",
       "      <td>-0.0357569</td>\n",
       "      <td>0.00594472</td>\n",
       "      <td>0.0197881</td>\n",
       "      <td>0.0387073</td>\n",
       "      <td>...</td>\n",
       "      <td>0.0415319</td>\n",
       "      <td>0.0576087</td>\n",
       "      <td>0.0908136</td>\n",
       "      <td>0.019485</td>\n",
       "      <td>0.00164577</td>\n",
       "      <td>0.0106355</td>\n",
       "      <td>0.0175537</td>\n",
       "      <td>0.0666901</td>\n",
       "      <td>0.0543527</td>\n",
       "      <td>0.0404576</td>\n",
       "    </tr>\n",
       "    <tr>\n",
       "      <th>rea</th>\n",
       "      <td>-0.0385967</td>\n",
       "      <td>0.0282971</td>\n",
       "      <td>-0.00011907</td>\n",
       "      <td>0.000848556</td>\n",
       "      <td>-0.116703</td>\n",
       "      <td>-0.0160533</td>\n",
       "      <td>-0.0350801</td>\n",
       "      <td>0.00558936</td>\n",
       "      <td>0.0227809</td>\n",
       "      <td>0.0396965</td>\n",
       "      <td>...</td>\n",
       "      <td>0.0371947</td>\n",
       "      <td>0.0530487</td>\n",
       "      <td>0.0905275</td>\n",
       "      <td>0.017412</td>\n",
       "      <td>-0.0149584</td>\n",
       "      <td>0.00962947</td>\n",
       "      <td>0.0189902</td>\n",
       "      <td>0.0742942</td>\n",
       "      <td>0.0504454</td>\n",
       "      <td>0.0397583</td>\n",
       "    </tr>\n",
       "    <tr>\n",
       "      <th>gp</th>\n",
       "      <td>-0.0110016</td>\n",
       "      <td>0.0245284</td>\n",
       "      <td>0.0488265</td>\n",
       "      <td>0.050175</td>\n",
       "      <td>-0.0735145</td>\n",
       "      <td>0.000263535</td>\n",
       "      <td>-0.037663</td>\n",
       "      <td>-0.00800099</td>\n",
       "      <td>-0.00924077</td>\n",
       "      <td>0.042346</td>\n",
       "      <td>...</td>\n",
       "      <td>0.0475963</td>\n",
       "      <td>0.0400699</td>\n",
       "      <td>0.064816</td>\n",
       "      <td>0.0287453</td>\n",
       "      <td>-0.0607606</td>\n",
       "      <td>-0.00139744</td>\n",
       "      <td>0.0390617</td>\n",
       "      <td>0.080157</td>\n",
       "      <td>0.00246449</td>\n",
       "      <td>0.0573114</td>\n",
       "    </tr>\n",
       "    <tr>\n",
       "      <th>roa</th>\n",
       "      <td>-0.000363097</td>\n",
       "      <td>-0.0259199</td>\n",
       "      <td>0.0450858</td>\n",
       "      <td>0.060168</td>\n",
       "      <td>-0.0582424</td>\n",
       "      <td>-0.0162528</td>\n",
       "      <td>-0.0272808</td>\n",
       "      <td>-0.0093553</td>\n",
       "      <td>-0.0434004</td>\n",
       "      <td>-0.00351388</td>\n",
       "      <td>...</td>\n",
       "      <td>0.062928</td>\n",
       "      <td>0.0582967</td>\n",
       "      <td>0.083127</td>\n",
       "      <td>0.01267</td>\n",
       "      <td>-0.0837261</td>\n",
       "      <td>-0.00198232</td>\n",
       "      <td>0.0456216</td>\n",
       "      <td>0.0564168</td>\n",
       "      <td>-0.0109034</td>\n",
       "      <td>0.0444532</td>\n",
       "    </tr>\n",
       "    <tr>\n",
       "      <th>roe</th>\n",
       "      <td>0.0144066</td>\n",
       "      <td>0.00587193</td>\n",
       "      <td>0.0404702</td>\n",
       "      <td>0.0473738</td>\n",
       "      <td>-0.118082</td>\n",
       "      <td>-0.0263266</td>\n",
       "      <td>-0.0477677</td>\n",
       "      <td>0.00883976</td>\n",
       "      <td>-0.0161044</td>\n",
       "      <td>0.0548569</td>\n",
       "      <td>...</td>\n",
       "      <td>0.045349</td>\n",
       "      <td>0.058136</td>\n",
       "      <td>0.0966783</td>\n",
       "      <td>-0.00171572</td>\n",
       "      <td>-0.0663033</td>\n",
       "      <td>-0.0124712</td>\n",
       "      <td>0.014391</td>\n",
       "      <td>0.0746306</td>\n",
       "      <td>0.037001</td>\n",
       "      <td>0.0300732</td>\n",
       "    </tr>\n",
       "  </tbody>\n",
       "</table>\n",
       "<p>5 rows × 144 columns</p>\n",
       "</div>"
      ],
      "text/plain": [
       "      2006-01-01  2006-02-01  2006-03-01   2006-04-01 2006-05-01   2006-06-01  \\\n",
       "0                                                                               \n",
       "ana    -0.113058  -0.0124199  -0.0085909   -0.0976053  -0.226064   -0.0272245   \n",
       "rea   -0.0385967   0.0282971 -0.00011907  0.000848556  -0.116703   -0.0160533   \n",
       "gp    -0.0110016   0.0245284   0.0488265     0.050175 -0.0735145  0.000263535   \n",
       "roa -0.000363097  -0.0259199   0.0450858     0.060168 -0.0582424   -0.0162528   \n",
       "roe    0.0144066  0.00587193   0.0404702    0.0473738  -0.118082   -0.0263266   \n",
       "\n",
       "    2006-07-01  2006-08-01  2006-09-01  2006-10-01  ... 2017-03-01 2017-04-01  \\\n",
       "0                                                   ...                         \n",
       "ana -0.0357569  0.00594472   0.0197881   0.0387073  ...  0.0415319  0.0576087   \n",
       "rea -0.0350801  0.00558936   0.0227809   0.0396965  ...  0.0371947  0.0530487   \n",
       "gp   -0.037663 -0.00800099 -0.00924077    0.042346  ...  0.0475963  0.0400699   \n",
       "roa -0.0272808  -0.0093553  -0.0434004 -0.00351388  ...   0.062928  0.0582967   \n",
       "roe -0.0477677  0.00883976  -0.0161044   0.0548569  ...   0.045349   0.058136   \n",
       "\n",
       "    2017-05-01  2017-06-01  2017-07-01  2017-08-01 2017-09-01 2017-10-01  \\\n",
       "0                                                                          \n",
       "ana  0.0908136    0.019485  0.00164577   0.0106355  0.0175537  0.0666901   \n",
       "rea  0.0905275    0.017412  -0.0149584  0.00962947  0.0189902  0.0742942   \n",
       "gp    0.064816   0.0287453  -0.0607606 -0.00139744  0.0390617   0.080157   \n",
       "roa   0.083127     0.01267  -0.0837261 -0.00198232  0.0456216  0.0564168   \n",
       "roe  0.0966783 -0.00171572  -0.0663033  -0.0124712   0.014391  0.0746306   \n",
       "\n",
       "     2017-11-01 2017-12-01  \n",
       "0                           \n",
       "ana   0.0543527  0.0404576  \n",
       "rea   0.0504454  0.0397583  \n",
       "gp   0.00246449  0.0573114  \n",
       "roa  -0.0109034  0.0444532  \n",
       "roe    0.037001  0.0300732  \n",
       "\n",
       "[5 rows x 144 columns]"
      ]
     },
     "execution_count": 5,
     "metadata": {},
     "output_type": "execute_result"
    }
   ],
   "source": [
    "#加表头\n",
    "factorname=factorm.copy().iloc[:,0]\n",
    "for j in range(0,len(factorname)):\n",
    "    id_=np.where(np.array([i=='_' for i in factorname[j]])==1)[0]\n",
    "    if np.size(id_)!=0:\n",
    "        factorname[j]=factorname[j][id_[0]+1:id_[-1]]\n",
    "factordate=factorm[:][1]\n",
    "factoryear=np.array(factorm.iloc[:,1])\n",
    "\n",
    "factorm=factorm.iloc[:,2:]\n",
    "factorm.index=factorname\n",
    "factorm.columns=time_seri\n",
    "factorm.head()"
   ]
  },
  {
   "cell_type": "code",
   "execution_count": 6,
   "metadata": {
    "ExecuteTime": {
     "end_time": "2021-11-30T15:16:38.801415Z",
     "start_time": "2021-11-30T15:16:37.842256Z"
    }
   },
   "outputs": [
    {
     "name": "stdout",
     "output_type": "stream",
     "text": [
      "              market       size         dbe          bm         roe  R_squares\n",
      "tvalues      2.25953    -2.6646    -1.86552   -0.230179   -0.256874   0.893941\n",
      "estimate   0.0167372 -0.0181201 -0.00658173 -0.00109912 -0.00118047   0.893941\n",
      "R_squares        NaN        NaN         NaN         NaN         NaN   0.893941\n"
     ]
    }
   ],
   "source": [
    "#实现Fama_Macbeth回归\n",
    "model_name=['market','size','dbe','bm','roe']\n",
    "factor_model_raw=factorm.loc[model_name,:]\n",
    "Fama_result=Fama_MacBeth(portfolio2,factor_model_raw)\n",
    "print(Fama_result)"
   ]
  },
  {
   "cell_type": "code",
   "execution_count": 7,
   "metadata": {
    "ExecuteTime": {
     "end_time": "2021-11-30T15:16:38.807146Z",
     "start_time": "2021-11-30T15:16:38.802902Z"
    }
   },
   "outputs": [],
   "source": [
    "Fama_result.to_csv('Fama_result.csv')"
   ]
  },
  {
   "cell_type": "code",
   "execution_count": null,
   "metadata": {},
   "outputs": [],
   "source": []
  }
 ],
 "metadata": {
  "kernelspec": {
   "display_name": "Python 3",
   "language": "python",
   "name": "python3"
  },
  "language_info": {
   "codemirror_mode": {
    "name": "ipython",
    "version": 3
   },
   "file_extension": ".py",
   "mimetype": "text/x-python",
   "name": "python",
   "nbconvert_exporter": "python",
   "pygments_lexer": "ipython3",
   "version": "3.8.10"
  }
 },
 "nbformat": 4,
 "nbformat_minor": 4
}
