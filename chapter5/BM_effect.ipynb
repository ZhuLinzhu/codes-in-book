{
 "cells": [
  {
   "cell_type": "code",
   "execution_count": null,
   "metadata": {},
   "outputs": [],
   "source": [
    "import pandas as pd\n",
    "import numpy as np\n",
    "import statsmodels.api as sm\n",
    "import statsmodels.formula.api as smf\n",
    "from scipy import stats as st\n",
    "pd.options.mode.chained_assignment = None   # off the warning when modifying the first mv_lag in each stock group"
   ]
  },
  {
   "cell_type": "code",
   "execution_count": null,
   "metadata": {},
   "outputs": [],
   "source": [
    "# 读取股票收益表以及公司资产负债表\n",
    "path_srm = \"ret_group_dum.sas7bdat\"\n",
    "path_balance =\"cn_balance_sheet.sas7bdat\"\n",
    "#print(\"### loading data\")\n",
    "\n",
    "srm = pd.read_sas(path_srm,\n",
    "                 format='sas7bdat',\n",
    "                 encoding='iso-8859-1')  \n",
    "balance = pd.read_sas(path_balance,\n",
    "                 format='sas7bdat',\n",
    "                 encoding='iso-8859-1')  \n",
    "#print(\"### data loaded\")"
   ]
  },
  {
   "cell_type": "code",
   "execution_count": 53,
   "metadata": {
    "ExecuteTime": {
     "end_time": "2021-11-28T15:00:26.568098Z",
     "start_time": "2021-11-28T15:00:20.010529Z"
    }
   },
   "outputs": [
    {
     "name": "stdout",
     "output_type": "stream",
     "text": [
      "### loading data\n",
      "### data loaded\n"
     ]
    }
   ],
   "source": [
    "\n",
    "\n",
    "\n",
    "# 起止年份\n",
    "begdate = 2000\n",
    "enddate = 2015\n",
    "market = [1,4,16]\n",
    "# 需要去除的金融行业代码\n",
    "exclude_industry = [\"J66\",\"J67\", \"J68\", \"J69\"]  #financila industry  \"NNINDCD\""
   ]
  },
  {
   "cell_type": "code",
   "execution_count": 2,
   "metadata": {
    "ExecuteTime": {
     "end_time": "2021-11-28T13:56:44.622930Z",
     "start_time": "2021-11-28T13:56:44.017558Z"
    }
   },
   "outputs": [
    {
     "name": "stdout",
     "output_type": "stream",
     "text": [
      "### processing monthly return\n"
     ]
    }
   ],
   "source": [
    "def monthly_return(inset):   #处理原始月频收益数据，去除金融行业\n",
    "    print(\"### processing monthly return\")\n",
    "    keep = [\"STKCD\", 'TRDMNT', 'year','yearr', 'month','status_decision',\n",
    "            'NNINDCD','MSMVTTL','MCLSPRC','MARKETTYPE','date','MRETWD','MSMVOSD','mv','mv_lag']\n",
    "    inset.sort_values(by = [\"STKCD\",\"TRDMNT\"],ascending=True,inplace = True)\n",
    "    inset.query(\"NNINDCD != @exclude_industry & MARKETTYPE == @market & (@enddate>=year >= @begdate)& MRETWD==MRETWD & MSMVOSD==MSMVOSD\",\n",
    "              inplace=True)   #using query to speed up\n",
    "    inset[\"mv\"] = inset[\"MSMVOSD\"]\n",
    "    inset['mv_lag'] = inset[\"MSMVOSD\"].shift(1)\n",
    "    inset.loc[inset.groupby('STKCD')['mv_lag'].head(1).index, 'mv_lag'] = np.nan #当期的市值参考值为上一期的市值\n",
    "    inset[\"date\"] = inset['year']*10000 +inset[\"month\"]*100+28\n",
    "    inset.loc[inset['month']<7,\"yearr\"] = inset[\"year\"]-1\n",
    "    inset.loc[inset['month']>=7,\"yearr\"] = inset[\"year\"]\n",
    "    inset = inset[keep]\n",
    "    inset.reset_index(drop=True,inplace=True)\n",
    "    return inset\n",
    "\n",
    "ss = monthly_return(srm)"
   ]
  },
  {
   "cell_type": "code",
   "execution_count": 3,
   "metadata": {
    "ExecuteTime": {
     "end_time": "2021-11-28T13:56:47.148595Z",
     "start_time": "2021-11-28T13:56:44.625067Z"
    }
   },
   "outputs": [
    {
     "name": "stdout",
     "output_type": "stream",
     "text": [
      "### processing balance sheet data\n"
     ]
    }
   ],
   "source": [
    "def balance_sheet(inset): #处理原始资产负债表数据，去除金融行业，保留账面价值，总资产等数据\n",
    "    print(\"### processing balance sheet data\")\n",
    "    inset['year'] = inset['ACCPER'].apply(lambda x: x.year)\n",
    "    inset['month'] = inset['ACCPER'].apply(lambda x: x.month)\n",
    "    \n",
    "    \n",
    "    keep = ['STKCD','ACCPER','TYPREP','year','month','at','at_lag','bv','bv_lag','A001000000','A001123000',\n",
    "            'A001207000','A001212000','A002101000','A002201000','A003000000']\n",
    "    inset.sort_values(by = [\"STKCD\",\"ACCPER\"],ascending=True,inplace = True) #ACCPER 公告发表所属的会计周期\n",
    "    inset['at']=inset['A001000000']\n",
    "    inset['bv']=inset['A003000000']\n",
    "    inset['at_lag'] = inset['at'].shift(1)\n",
    "    inset['bv_lag'] = inset['bv'].shift(1)\n",
    "    inset.loc[inset.groupby('STKCD')['bv_lag'].head(1).index, 'bv_lag'] = np.nan\n",
    "    inset.loc[inset.groupby('STKCD')['at_lag'].head(1).index, 'at_lag'] = np.nan  #当期的总资产，总账面价值参考上一期\n",
    "    A = \"A\"  #local variable: TYPREP : A\n",
    "    inset.query(\"(@enddate>=year>= @begdate)& month==12 & TYPREP == @A\",inplace=True)\n",
    "    inset = inset[keep]\n",
    "    inset.reset_index(drop = True,inplace=True)\n",
    "    return inset\n",
    "bs = balance_sheet(balance)"
   ]
  },
  {
   "cell_type": "code",
   "execution_count": 4,
   "metadata": {
    "ExecuteTime": {
     "end_time": "2021-11-28T13:56:47.220302Z",
     "start_time": "2021-11-28T13:56:47.150819Z"
    }
   },
   "outputs": [],
   "source": [
    "def size_month12(inset):    # 使用12月份的市值\n",
    "    tp = inset.copy()           #使用copy避免srm数据被修改\n",
    "    keep = ['STKCD', 'TRDMNT', 'year','yearr', 'years','month','mv12']\n",
    "    tp.query('month==12',inplace=True)\n",
    "    tp['mv12'] = tp['mv']\n",
    "    tp['years'] = tp['year']\n",
    "    tp = tp[keep]\n",
    "    tp.reset_index(drop = True,inplace=True)\n",
    "    return tp\n",
    "\n",
    "ss12 = size_month12(ss)"
   ]
  },
  {
   "cell_type": "code",
   "execution_count": 5,
   "metadata": {
    "ExecuteTime": {
     "end_time": "2021-11-28T13:56:47.250230Z",
     "start_time": "2021-11-28T13:56:47.222133Z"
    }
   },
   "outputs": [
    {
     "name": "stdout",
     "output_type": "stream",
     "text": [
      "### calculating book to market\n"
     ]
    }
   ],
   "source": [
    "def bm_ann(inset_balance,inset_mv12):# 计算每年的账面市值比，insets are balance sheet and mv12\n",
    "    print(\"### calculating book to market\")\n",
    "    inset_balance = inset_balance[['STKCD','year','bv']]\n",
    "    inset_mv12 = inset_mv12[['STKCD','year','mv12']]\n",
    "    ann_bm = pd.merge(inset_balance,inset_mv12,on=['STKCD','year'])\n",
    "    ann_bm[\"bm\"] = ann_bm['bv']/ann_bm['mv12']\n",
    "    ann_bm['years'] = ann_bm['year']\n",
    "    return ann_bm\n",
    "ss_bm = bm_ann(bs,ss12)"
   ]
  },
  {
   "cell_type": "code",
   "execution_count": 6,
   "metadata": {
    "ExecuteTime": {
     "end_time": "2021-11-28T13:56:47.373491Z",
     "start_time": "2021-11-28T13:56:47.251907Z"
    }
   },
   "outputs": [
    {
     "name": "stdout",
     "output_type": "stream",
     "text": [
      "### grouping\n"
     ]
    }
   ],
   "source": [
    "def group10(inset,sortvar, var):  # 根据var的十个分位数分10组，做decile投资组合\n",
    "    print('### grouping')\n",
    "    quant = [10,20,30,40,50,60,70,80,90]\n",
    "    grouped = inset.groupby(inset[sortvar])\n",
    "    perc = pd.DataFrame()\n",
    "    inset = pd.DataFrame()\n",
    "    for i in quant:\n",
    "        perc[str(i)+\"%\"] = grouped[var].quantile(i/100)\n",
    "    for year,group in grouped:\n",
    "        group['group_dum'] = pd.qcut(group[var],10,labels=[1,2,3,4,5,6,7,8,9,10])\n",
    "        inset = pd.concat([inset,group],join = \"outer\")\n",
    "    inset.sort_values(by=[sortvar,'group_dum','STKCD'],inplace = True)\n",
    "    inset.reset_index(drop = True,inplace = True)\n",
    "    return inset, perc\n",
    "gp10, gp10_perc = group10(ss_bm,'years','bm') # 根据book_to_market的十个分位数分10组，做decile投资组合\n",
    "# gp10_perc 为分位数的集合\n"
   ]
  },
  {
   "cell_type": "code",
   "execution_count": 7,
   "metadata": {
    "ExecuteTime": {
     "end_time": "2021-11-28T13:56:47.839518Z",
     "start_time": "2021-11-28T13:56:47.375191Z"
    }
   },
   "outputs": [
    {
     "name": "stdout",
     "output_type": "stream",
     "text": [
      "### mergeing monthly return data and book to market data\n"
     ]
    }
   ],
   "source": [
    "def stock_ret_month_bm(srm_inset,bm_inset):  #将月收益率和账面市值比合并，使用yearr保证每一期的分组与bm使用的\n",
    "                                                # 是最近一次年报更新的账面价值和年末时候的市值\n",
    "    print(\"### mergeing monthly return data and book to market data\")\n",
    "    srm_inset[\"merge_key\"] = srm_inset['yearr']-1\n",
    "    bm_inset[\"merge_key\"] = bm_inset['years']\n",
    "    result = pd.merge(srm_inset,bm_inset,on=['merge_key','STKCD'])\n",
    "    result = result[[\"STKCD\",\"TRDMNT\",'year_x','month','MRETWD','mv_lag','group_dum','bm','status_decision']]\n",
    "    strin = \"in\"\n",
    "    result.query(\"status_decision==@strin\",inplace = True)\n",
    "    result = result[[\"STKCD\",\"TRDMNT\",'year_x','month','MRETWD','mv_lag','group_dum','bm']]\n",
    "    result.sort_values(by=[\"TRDMNT\",\"STKCD\"],inplace=True)\n",
    "    result.reset_index(drop = True,inplace=True)\n",
    "    return result\n",
    "srm_bm = stock_ret_month_bm(ss,gp10)"
   ]
  },
  {
   "cell_type": "code",
   "execution_count": 8,
   "metadata": {
    "ExecuteTime": {
     "end_time": "2021-11-28T13:57:09.598521Z",
     "start_time": "2021-11-28T13:56:47.841820Z"
    }
   },
   "outputs": [
    {
     "name": "stdout",
     "output_type": "stream",
     "text": [
      "### winsorizing\n",
      "### winsorizing\n"
     ]
    }
   ],
   "source": [
    "\n",
    "def winsorize(inset,sortvar,var,perc,trim):   #使用1%和99%分位数代替离群点的值，trim = 1时候，抛弃离群点\n",
    "                                            #只能对单变量进行winsorization\n",
    "    print('### winsorizing')\n",
    "    tp = inset.copy()\n",
    "    perc1 = perc\n",
    "    perc2 = 100-perc\n",
    "    tp.sort_values(by=sortvar,inplace = True)\n",
    "    tp.reset_index(drop = True,inplace = True)\n",
    "    grouped = tp.groupby(sortvar)\n",
    "    tp = pd.DataFrame()\n",
    "    if len(sortvar) == 1:\n",
    "        for i,group in grouped:\n",
    "            group.sort_values(by=var,inplace=True)\n",
    "            p1_tp = round(np.percentile(group[var],perc1),2)\n",
    "            p2_tp = round(np.percentile(group[var],perc2),2)\n",
    "            if trim == 1:\n",
    "                group.loc[group[var]<=p1_tp,var] = np.nan\n",
    "                group.loc[group[var]>=p2_tp,var] = np.nan\n",
    "            else:\n",
    "                p1 = np.array(group.loc[group[var]<=p1_tp,var])[-1]\n",
    "                p2 = np.array(group.loc[group[var]>=p2_tp,var])[0]\n",
    "                group.loc[group[var]<=p1_tp,var] = p1\n",
    "                group.loc[group[var]>=p2_tp,var] = p2\n",
    "            tp = pd.concat([tp,group],join = \"outer\")\n",
    "        tp.sort_values(by=list(sortvar)+['STKCD'],inplace = True)\n",
    "    elif len(sortvar)>1:\n",
    "        xx = tuple(sortvar)\n",
    "        for xx,group in grouped:\n",
    "            group.sort_values(by=var,inplace=True)\n",
    "            p1_tp = round(np.percentile(group[var],perc1),2)\n",
    "            p2_tp = round(np.percentile(group[var],perc2),2)\n",
    "            if trim == 1:\n",
    "                group.loc[group[var]<=p1_tp,var] = np.nan\n",
    "                group.loc[group[var]>=p2_tp,var] = np.nan\n",
    "            else:\n",
    "                p1 = np.array(group.loc[group[var]<=p1_tp,'mv_lag'])[-1]\n",
    "                p2 = np.array(group.loc[group[var]>=p2_tp,'mv_lag'])[0]\n",
    "                group.loc[group['mv_lag']<=p1_tp,var] = p1\n",
    "                group.loc[group['mv_lag']>=p2_tp,var] = p2\n",
    "            tp = pd.concat([tp,group],join = \"outer\")\n",
    "        tp.sort_values(by=sortvar+['STKCD'],inplace = True)\n",
    "    tp.reset_index(drop = True,inplace=True)\n",
    "    return tp[tp[var].notna()]\n",
    "\n",
    "win1 = winsorize(srm_bm,['TRDMNT'],'mv_lag',1,0)\n",
    "win2 = winsorize(win1,['group_dum','TRDMNT'],'mv_lag',1,0)"
   ]
  },
  {
   "cell_type": "code",
   "execution_count": 9,
   "metadata": {
    "ExecuteTime": {
     "end_time": "2021-11-28T13:57:10.331507Z",
     "start_time": "2021-11-28T13:57:09.600891Z"
    }
   },
   "outputs": [],
   "source": [
    "\n",
    "def monthly_return_ew(win_ed, sortvar):  #构建等权重投资组合\n",
    "    grouped = win_ed.groupby(sortvar + ['TRDMNT'])\n",
    "    xx = tuple(sortvar + ['TRDMNT'])\n",
    "    tp = []\n",
    "    for xx, group in grouped:\n",
    "        row = {}\n",
    "        row['group_dum'] = xx[0]\n",
    "        row['TRDMNT'] = xx[1]\n",
    "        row['freq'] = len(group)\n",
    "        row['mean'] = np.mean(group['MRETWD'])\n",
    "        tp.append(row)\n",
    "    tp = pd.DataFrame(tp)\n",
    "    tp.sort_values(by=['TRDMNT'] + sortvar, inplace=True)\n",
    "    tp.reset_index(drop=True, inplace=True)\n",
    "    return tp\n",
    "\n",
    "\n",
    "def monthly_return_vw(win_ed, sortvar):  #构建市值加权投资组合\n",
    "    grouped = win_ed.groupby(sortvar + ['TRDMNT'])\n",
    "    xx = tuple(sortvar + ['TRDMNT'])\n",
    "    tp = []\n",
    "    for xx, group in grouped:\n",
    "        row = {}\n",
    "        row['group_dum'] = xx[0]\n",
    "        row['TRDMNT'] = xx[1]\n",
    "        row['freq'] = len(group)\n",
    "        row['mean'] = np.average(group['MRETWD'], weights=group['mv_lag'])\n",
    "        tp.append(row)\n",
    "    tp = pd.DataFrame(tp)\n",
    "    tp.sort_values(by=['TRDMNT'] + sortvar, inplace=True)\n",
    "    tp.reset_index(drop=True, inplace=True)\n",
    "    return tp\n",
    "\n",
    "mon_ret_ew = monthly_return_ew(win2,['group_dum'])\n",
    "mon_ret_vw = monthly_return_vw(win2,['group_dum'])"
   ]
  },
  {
   "cell_type": "code",
   "execution_count": 10,
   "metadata": {
    "ExecuteTime": {
     "end_time": "2021-11-28T13:57:10.386484Z",
     "start_time": "2021-11-28T13:57:10.333280Z"
    }
   },
   "outputs": [
    {
     "name": "stdout",
     "output_type": "stream",
     "text": [
      "   group_dum   ew_mean   vw_mean\n",
      "0      col_1  0.011781  0.006751\n",
      "1     col_10  0.017709  0.012216\n",
      "2      col_2  0.013712  0.009827\n",
      "3      col_3  0.016052  0.010346\n",
      "4      col_4  0.015283  0.011130\n",
      "5      col_5  0.017363  0.012912\n",
      "6      col_6  0.018686  0.012593\n",
      "7      col_7  0.019454  0.014653\n",
      "8      col_8  0.019315  0.013261\n",
      "9      col_9  0.018513  0.012452\n",
      "10  high-low  0.005928  0.005465\n"
     ]
    }
   ],
   "source": [
    "\n",
    "def trans(weighted_monthly_return):     #将收益率结果转置\n",
    "    grouped = weighted_monthly_return.groupby('TRDMNT')\n",
    "    tp = []\n",
    "    for month, group in grouped:\n",
    "        li = list(group['mean'])\n",
    "        for i in range(len(group)):\n",
    "            row = {}\n",
    "            row['TRDMNT'] = month\n",
    "            row['bm_g10'] = 'col_' + str(i + 1)\n",
    "            row['MRETWD'] = round(li[i], 9)\n",
    "            tp.append(row)\n",
    "        row = {}\n",
    "        row['TRDMNT'] = month\n",
    "        row['bm_g10'] = 'high-low'\n",
    "        row['MRETWD'] = round(li[9] - li[0], 9)\n",
    "        tp.append(row)\n",
    "    tp = pd.DataFrame(tp)\n",
    "    tp.sort_values(by=[\"bm_g10\", \"TRDMNT\"], inplace=True)\n",
    "    tp.reset_index(drop=True, inplace=True)\n",
    "    return tp\n",
    "\n",
    "mon_ret_ew_trans = trans(mon_ret_ew)\n",
    "mon_ret_vw_trans = trans(mon_ret_vw)\n",
    "\n",
    "out_ret = pd.merge(mon_ret_ew_trans,mon_ret_vw_trans,on=['TRDMNT','bm_g10'])\n",
    "out_ret.rename(columns={'MRETWD_x':'ew', 'MRETWD_y':'vw'}, inplace = True)\n",
    "\n",
    "\n",
    "\n",
    "grouped = out_ret.groupby('bm_g10')\n",
    "ou = []\n",
    "for i, group in grouped:\n",
    "    row = {}\n",
    "    row['group_dum'] = i\n",
    "    row['ew_mean'] = round(np.mean(group['ew']),10)\n",
    "    row['vw_mean'] = round(np.mean(group['vw']),10)\n",
    "    ou.append(row)\n",
    "\n",
    "ou = pd.DataFrame(ou)    #ou整个时间周期的月平均收益率\n",
    "print(ou)"
   ]
  },
  {
   "cell_type": "code",
   "execution_count": 11,
   "metadata": {
    "ExecuteTime": {
     "end_time": "2021-11-28T13:57:10.403549Z",
     "start_time": "2021-11-28T13:57:10.388012Z"
    }
   },
   "outputs": [
    {
     "data": {
      "text/html": [
       "<div>\n",
       "<style scoped>\n",
       "    .dataframe tbody tr th:only-of-type {\n",
       "        vertical-align: middle;\n",
       "    }\n",
       "\n",
       "    .dataframe tbody tr th {\n",
       "        vertical-align: top;\n",
       "    }\n",
       "\n",
       "    .dataframe thead th {\n",
       "        text-align: right;\n",
       "    }\n",
       "</style>\n",
       "<table border=\"1\" class=\"dataframe\">\n",
       "  <thead>\n",
       "    <tr style=\"text-align: right;\">\n",
       "      <th></th>\n",
       "      <th>TRDMNT</th>\n",
       "      <th>bm_g10</th>\n",
       "      <th>ew</th>\n",
       "      <th>vw</th>\n",
       "    </tr>\n",
       "  </thead>\n",
       "  <tbody>\n",
       "    <tr>\n",
       "      <th>0</th>\n",
       "      <td>200107.0</td>\n",
       "      <td>col_1</td>\n",
       "      <td>-0.125109</td>\n",
       "      <td>-0.114110</td>\n",
       "    </tr>\n",
       "    <tr>\n",
       "      <th>1</th>\n",
       "      <td>200108.0</td>\n",
       "      <td>col_1</td>\n",
       "      <td>-0.021746</td>\n",
       "      <td>-0.030239</td>\n",
       "    </tr>\n",
       "    <tr>\n",
       "      <th>2</th>\n",
       "      <td>200109.0</td>\n",
       "      <td>col_1</td>\n",
       "      <td>-0.083686</td>\n",
       "      <td>-0.102126</td>\n",
       "    </tr>\n",
       "    <tr>\n",
       "      <th>3</th>\n",
       "      <td>200110.0</td>\n",
       "      <td>col_1</td>\n",
       "      <td>-0.088696</td>\n",
       "      <td>-0.081840</td>\n",
       "    </tr>\n",
       "    <tr>\n",
       "      <th>4</th>\n",
       "      <td>200111.0</td>\n",
       "      <td>col_1</td>\n",
       "      <td>0.032551</td>\n",
       "      <td>0.013695</td>\n",
       "    </tr>\n",
       "    <tr>\n",
       "      <th>...</th>\n",
       "      <td>...</td>\n",
       "      <td>...</td>\n",
       "      <td>...</td>\n",
       "      <td>...</td>\n",
       "    </tr>\n",
       "    <tr>\n",
       "      <th>1909</th>\n",
       "      <td>201508.0</td>\n",
       "      <td>high-low</td>\n",
       "      <td>-0.009986</td>\n",
       "      <td>0.040927</td>\n",
       "    </tr>\n",
       "    <tr>\n",
       "      <th>1910</th>\n",
       "      <td>201509.0</td>\n",
       "      <td>high-low</td>\n",
       "      <td>-0.036968</td>\n",
       "      <td>-0.049064</td>\n",
       "    </tr>\n",
       "    <tr>\n",
       "      <th>1911</th>\n",
       "      <td>201510.0</td>\n",
       "      <td>high-low</td>\n",
       "      <td>-0.064344</td>\n",
       "      <td>-0.079086</td>\n",
       "    </tr>\n",
       "    <tr>\n",
       "      <th>1912</th>\n",
       "      <td>201511.0</td>\n",
       "      <td>high-low</td>\n",
       "      <td>-0.006090</td>\n",
       "      <td>-0.019600</td>\n",
       "    </tr>\n",
       "    <tr>\n",
       "      <th>1913</th>\n",
       "      <td>201512.0</td>\n",
       "      <td>high-low</td>\n",
       "      <td>-0.049988</td>\n",
       "      <td>-0.032612</td>\n",
       "    </tr>\n",
       "  </tbody>\n",
       "</table>\n",
       "<p>1914 rows × 4 columns</p>\n",
       "</div>"
      ],
      "text/plain": [
       "        TRDMNT    bm_g10        ew        vw\n",
       "0     200107.0     col_1 -0.125109 -0.114110\n",
       "1     200108.0     col_1 -0.021746 -0.030239\n",
       "2     200109.0     col_1 -0.083686 -0.102126\n",
       "3     200110.0     col_1 -0.088696 -0.081840\n",
       "4     200111.0     col_1  0.032551  0.013695\n",
       "...        ...       ...       ...       ...\n",
       "1909  201508.0  high-low -0.009986  0.040927\n",
       "1910  201509.0  high-low -0.036968 -0.049064\n",
       "1911  201510.0  high-low -0.064344 -0.079086\n",
       "1912  201511.0  high-low -0.006090 -0.019600\n",
       "1913  201512.0  high-low -0.049988 -0.032612\n",
       "\n",
       "[1914 rows x 4 columns]"
      ]
     },
     "execution_count": 11,
     "metadata": {},
     "output_type": "execute_result"
    }
   ],
   "source": [
    "out_ret"
   ]
  },
  {
   "cell_type": "code",
   "execution_count": 12,
   "metadata": {
    "ExecuteTime": {
     "end_time": "2021-11-28T13:57:10.411568Z",
     "start_time": "2021-11-28T13:57:10.405042Z"
    }
   },
   "outputs": [
    {
     "data": {
      "text/html": [
       "<div>\n",
       "<style scoped>\n",
       "    .dataframe tbody tr th:only-of-type {\n",
       "        vertical-align: middle;\n",
       "    }\n",
       "\n",
       "    .dataframe tbody tr th {\n",
       "        vertical-align: top;\n",
       "    }\n",
       "\n",
       "    .dataframe thead th {\n",
       "        text-align: right;\n",
       "    }\n",
       "</style>\n",
       "<table border=\"1\" class=\"dataframe\">\n",
       "  <thead>\n",
       "    <tr style=\"text-align: right;\">\n",
       "      <th></th>\n",
       "      <th>group_dum</th>\n",
       "      <th>ew_mean</th>\n",
       "      <th>vw_mean</th>\n",
       "    </tr>\n",
       "  </thead>\n",
       "  <tbody>\n",
       "    <tr>\n",
       "      <th>0</th>\n",
       "      <td>col_1</td>\n",
       "      <td>0.011781</td>\n",
       "      <td>0.006751</td>\n",
       "    </tr>\n",
       "    <tr>\n",
       "      <th>1</th>\n",
       "      <td>col_10</td>\n",
       "      <td>0.017709</td>\n",
       "      <td>0.012216</td>\n",
       "    </tr>\n",
       "    <tr>\n",
       "      <th>2</th>\n",
       "      <td>col_2</td>\n",
       "      <td>0.013712</td>\n",
       "      <td>0.009827</td>\n",
       "    </tr>\n",
       "    <tr>\n",
       "      <th>3</th>\n",
       "      <td>col_3</td>\n",
       "      <td>0.016052</td>\n",
       "      <td>0.010346</td>\n",
       "    </tr>\n",
       "    <tr>\n",
       "      <th>4</th>\n",
       "      <td>col_4</td>\n",
       "      <td>0.015283</td>\n",
       "      <td>0.011130</td>\n",
       "    </tr>\n",
       "    <tr>\n",
       "      <th>5</th>\n",
       "      <td>col_5</td>\n",
       "      <td>0.017363</td>\n",
       "      <td>0.012912</td>\n",
       "    </tr>\n",
       "    <tr>\n",
       "      <th>6</th>\n",
       "      <td>col_6</td>\n",
       "      <td>0.018686</td>\n",
       "      <td>0.012593</td>\n",
       "    </tr>\n",
       "    <tr>\n",
       "      <th>7</th>\n",
       "      <td>col_7</td>\n",
       "      <td>0.019454</td>\n",
       "      <td>0.014653</td>\n",
       "    </tr>\n",
       "    <tr>\n",
       "      <th>8</th>\n",
       "      <td>col_8</td>\n",
       "      <td>0.019315</td>\n",
       "      <td>0.013261</td>\n",
       "    </tr>\n",
       "    <tr>\n",
       "      <th>9</th>\n",
       "      <td>col_9</td>\n",
       "      <td>0.018513</td>\n",
       "      <td>0.012452</td>\n",
       "    </tr>\n",
       "    <tr>\n",
       "      <th>10</th>\n",
       "      <td>high-low</td>\n",
       "      <td>0.005928</td>\n",
       "      <td>0.005465</td>\n",
       "    </tr>\n",
       "  </tbody>\n",
       "</table>\n",
       "</div>"
      ],
      "text/plain": [
       "   group_dum   ew_mean   vw_mean\n",
       "0      col_1  0.011781  0.006751\n",
       "1     col_10  0.017709  0.012216\n",
       "2      col_2  0.013712  0.009827\n",
       "3      col_3  0.016052  0.010346\n",
       "4      col_4  0.015283  0.011130\n",
       "5      col_5  0.017363  0.012912\n",
       "6      col_6  0.018686  0.012593\n",
       "7      col_7  0.019454  0.014653\n",
       "8      col_8  0.019315  0.013261\n",
       "9      col_9  0.018513  0.012452\n",
       "10  high-low  0.005928  0.005465"
      ]
     },
     "execution_count": 12,
     "metadata": {},
     "output_type": "execute_result"
    }
   ],
   "source": [
    "ou"
   ]
  },
  {
   "cell_type": "code",
   "execution_count": 18,
   "metadata": {
    "ExecuteTime": {
     "end_time": "2021-11-28T14:22:27.807973Z",
     "start_time": "2021-11-28T14:22:27.789330Z"
    }
   },
   "outputs": [],
   "source": [
    "ff3_data = pd.read_sas('cn_ff3_monthly_95_17.sas7bdat',format='sas7bdat',encoding='iso-8859-1')  \n",
    "ff3_data['TRDMNT'] = ff3_data['year'] * 100 + ff3_data['month'] \n",
    "\n",
    "\n",
    "hml_group = out_ret[out_ret['bm_g10'] == 'high-low']"
   ]
  },
  {
   "cell_type": "code",
   "execution_count": 20,
   "metadata": {
    "ExecuteTime": {
     "end_time": "2021-11-28T14:25:57.474539Z",
     "start_time": "2021-11-28T14:25:57.461995Z"
    }
   },
   "outputs": [],
   "source": [
    "reg_table = pd.merge(hml_group,ff3_data,on='TRDMNT')"
   ]
  },
  {
   "cell_type": "code",
   "execution_count": 58,
   "metadata": {
    "ExecuteTime": {
     "end_time": "2021-11-30T11:27:13.343144Z",
     "start_time": "2021-11-30T11:27:13.317859Z"
    }
   },
   "outputs": [
    {
     "data": {
      "text/html": [
       "<div>\n",
       "<style scoped>\n",
       "    .dataframe tbody tr th:only-of-type {\n",
       "        vertical-align: middle;\n",
       "    }\n",
       "\n",
       "    .dataframe tbody tr th {\n",
       "        vertical-align: top;\n",
       "    }\n",
       "\n",
       "    .dataframe thead th {\n",
       "        text-align: right;\n",
       "    }\n",
       "</style>\n",
       "<table border=\"1\" class=\"dataframe\">\n",
       "  <thead>\n",
       "    <tr style=\"text-align: right;\">\n",
       "      <th></th>\n",
       "      <th>TRDMNT</th>\n",
       "      <th>bm_g10</th>\n",
       "      <th>ew</th>\n",
       "      <th>vw</th>\n",
       "      <th>Date</th>\n",
       "      <th>Rmrf_tmv</th>\n",
       "      <th>Smb_tmv</th>\n",
       "      <th>Hml_tmv</th>\n",
       "      <th>year</th>\n",
       "      <th>month</th>\n",
       "      <th>MonRFRet</th>\n",
       "      <th>EW_rf</th>\n",
       "    </tr>\n",
       "  </thead>\n",
       "  <tbody>\n",
       "    <tr>\n",
       "      <th>0</th>\n",
       "      <td>200107.0</td>\n",
       "      <td>high-low</td>\n",
       "      <td>-0.007832</td>\n",
       "      <td>-0.010282</td>\n",
       "      <td>2001-07-31</td>\n",
       "      <td>-0.1340</td>\n",
       "      <td>-0.0076</td>\n",
       "      <td>-0.0094</td>\n",
       "      <td>2001.0</td>\n",
       "      <td>7.0</td>\n",
       "      <td>0.001650</td>\n",
       "      <td>-0.009482</td>\n",
       "    </tr>\n",
       "    <tr>\n",
       "      <th>1</th>\n",
       "      <td>200108.0</td>\n",
       "      <td>high-low</td>\n",
       "      <td>-0.015171</td>\n",
       "      <td>-0.017844</td>\n",
       "      <td>2001-08-31</td>\n",
       "      <td>-0.0378</td>\n",
       "      <td>0.0151</td>\n",
       "      <td>-0.0104</td>\n",
       "      <td>2001.0</td>\n",
       "      <td>8.0</td>\n",
       "      <td>0.001650</td>\n",
       "      <td>-0.016821</td>\n",
       "    </tr>\n",
       "    <tr>\n",
       "      <th>2</th>\n",
       "      <td>200109.0</td>\n",
       "      <td>high-low</td>\n",
       "      <td>0.032264</td>\n",
       "      <td>0.060885</td>\n",
       "      <td>2001-09-28</td>\n",
       "      <td>-0.0548</td>\n",
       "      <td>-0.0214</td>\n",
       "      <td>0.0261</td>\n",
       "      <td>2001.0</td>\n",
       "      <td>9.0</td>\n",
       "      <td>0.001650</td>\n",
       "      <td>0.030614</td>\n",
       "    </tr>\n",
       "    <tr>\n",
       "      <th>3</th>\n",
       "      <td>200110.0</td>\n",
       "      <td>high-low</td>\n",
       "      <td>0.054867</td>\n",
       "      <td>0.052416</td>\n",
       "      <td>2001-10-31</td>\n",
       "      <td>-0.0506</td>\n",
       "      <td>-0.0157</td>\n",
       "      <td>0.0282</td>\n",
       "      <td>2001.0</td>\n",
       "      <td>10.0</td>\n",
       "      <td>0.001650</td>\n",
       "      <td>0.053217</td>\n",
       "    </tr>\n",
       "    <tr>\n",
       "      <th>4</th>\n",
       "      <td>200111.0</td>\n",
       "      <td>high-low</td>\n",
       "      <td>0.022459</td>\n",
       "      <td>0.030285</td>\n",
       "      <td>2001-11-30</td>\n",
       "      <td>0.0371</td>\n",
       "      <td>0.0242</td>\n",
       "      <td>0.0094</td>\n",
       "      <td>2001.0</td>\n",
       "      <td>11.0</td>\n",
       "      <td>0.001650</td>\n",
       "      <td>0.020809</td>\n",
       "    </tr>\n",
       "    <tr>\n",
       "      <th>...</th>\n",
       "      <td>...</td>\n",
       "      <td>...</td>\n",
       "      <td>...</td>\n",
       "      <td>...</td>\n",
       "      <td>...</td>\n",
       "      <td>...</td>\n",
       "      <td>...</td>\n",
       "      <td>...</td>\n",
       "      <td>...</td>\n",
       "      <td>...</td>\n",
       "      <td>...</td>\n",
       "      <td>...</td>\n",
       "    </tr>\n",
       "    <tr>\n",
       "      <th>169</th>\n",
       "      <td>201508.0</td>\n",
       "      <td>high-low</td>\n",
       "      <td>-0.009986</td>\n",
       "      <td>0.040927</td>\n",
       "      <td>2015-08-31</td>\n",
       "      <td>-0.1468</td>\n",
       "      <td>0.0165</td>\n",
       "      <td>0.0143</td>\n",
       "      <td>2015.0</td>\n",
       "      <td>8.0</td>\n",
       "      <td>0.002592</td>\n",
       "      <td>-0.012578</td>\n",
       "    </tr>\n",
       "    <tr>\n",
       "      <th>170</th>\n",
       "      <td>201509.0</td>\n",
       "      <td>high-low</td>\n",
       "      <td>-0.036968</td>\n",
       "      <td>-0.049064</td>\n",
       "      <td>2015-09-30</td>\n",
       "      <td>-0.0535</td>\n",
       "      <td>0.0210</td>\n",
       "      <td>-0.0401</td>\n",
       "      <td>2015.0</td>\n",
       "      <td>9.0</td>\n",
       "      <td>0.002602</td>\n",
       "      <td>-0.039570</td>\n",
       "    </tr>\n",
       "    <tr>\n",
       "      <th>171</th>\n",
       "      <td>201510.0</td>\n",
       "      <td>high-low</td>\n",
       "      <td>-0.064344</td>\n",
       "      <td>-0.079086</td>\n",
       "      <td>2015-10-30</td>\n",
       "      <td>0.1413</td>\n",
       "      <td>0.0949</td>\n",
       "      <td>-0.0717</td>\n",
       "      <td>2015.0</td>\n",
       "      <td>10.0</td>\n",
       "      <td>0.002618</td>\n",
       "      <td>-0.066962</td>\n",
       "    </tr>\n",
       "    <tr>\n",
       "      <th>172</th>\n",
       "      <td>201511.0</td>\n",
       "      <td>high-low</td>\n",
       "      <td>-0.006090</td>\n",
       "      <td>-0.019600</td>\n",
       "      <td>2015-11-30</td>\n",
       "      <td>0.0394</td>\n",
       "      <td>0.1160</td>\n",
       "      <td>-0.0395</td>\n",
       "      <td>2015.0</td>\n",
       "      <td>11.0</td>\n",
       "      <td>0.002534</td>\n",
       "      <td>-0.008624</td>\n",
       "    </tr>\n",
       "    <tr>\n",
       "      <th>173</th>\n",
       "      <td>201512.0</td>\n",
       "      <td>high-low</td>\n",
       "      <td>-0.049988</td>\n",
       "      <td>-0.032612</td>\n",
       "      <td>2015-12-31</td>\n",
       "      <td>0.0381</td>\n",
       "      <td>0.0633</td>\n",
       "      <td>-0.0180</td>\n",
       "      <td>2015.0</td>\n",
       "      <td>12.0</td>\n",
       "      <td>0.002549</td>\n",
       "      <td>-0.052537</td>\n",
       "    </tr>\n",
       "  </tbody>\n",
       "</table>\n",
       "<p>174 rows × 12 columns</p>\n",
       "</div>"
      ],
      "text/plain": [
       "       TRDMNT    bm_g10        ew        vw       Date  Rmrf_tmv  Smb_tmv  \\\n",
       "0    200107.0  high-low -0.007832 -0.010282 2001-07-31   -0.1340  -0.0076   \n",
       "1    200108.0  high-low -0.015171 -0.017844 2001-08-31   -0.0378   0.0151   \n",
       "2    200109.0  high-low  0.032264  0.060885 2001-09-28   -0.0548  -0.0214   \n",
       "3    200110.0  high-low  0.054867  0.052416 2001-10-31   -0.0506  -0.0157   \n",
       "4    200111.0  high-low  0.022459  0.030285 2001-11-30    0.0371   0.0242   \n",
       "..        ...       ...       ...       ...        ...       ...      ...   \n",
       "169  201508.0  high-low -0.009986  0.040927 2015-08-31   -0.1468   0.0165   \n",
       "170  201509.0  high-low -0.036968 -0.049064 2015-09-30   -0.0535   0.0210   \n",
       "171  201510.0  high-low -0.064344 -0.079086 2015-10-30    0.1413   0.0949   \n",
       "172  201511.0  high-low -0.006090 -0.019600 2015-11-30    0.0394   0.1160   \n",
       "173  201512.0  high-low -0.049988 -0.032612 2015-12-31    0.0381   0.0633   \n",
       "\n",
       "     Hml_tmv    year  month  MonRFRet     EW_rf  \n",
       "0    -0.0094  2001.0    7.0  0.001650 -0.009482  \n",
       "1    -0.0104  2001.0    8.0  0.001650 -0.016821  \n",
       "2     0.0261  2001.0    9.0  0.001650  0.030614  \n",
       "3     0.0282  2001.0   10.0  0.001650  0.053217  \n",
       "4     0.0094  2001.0   11.0  0.001650  0.020809  \n",
       "..       ...     ...    ...       ...       ...  \n",
       "169   0.0143  2015.0    8.0  0.002592 -0.012578  \n",
       "170  -0.0401  2015.0    9.0  0.002602 -0.039570  \n",
       "171  -0.0717  2015.0   10.0  0.002618 -0.066962  \n",
       "172  -0.0395  2015.0   11.0  0.002534 -0.008624  \n",
       "173  -0.0180  2015.0   12.0  0.002549 -0.052537  \n",
       "\n",
       "[174 rows x 12 columns]"
      ]
     },
     "execution_count": 58,
     "metadata": {},
     "output_type": "execute_result"
    }
   ],
   "source": [
    "reg_table"
   ]
  },
  {
   "cell_type": "code",
   "execution_count": null,
   "metadata": {},
   "outputs": [],
   "source": [
    "reg_table.to_csv('reg_table.csv')"
   ]
  },
  {
   "cell_type": "code",
   "execution_count": 48,
   "metadata": {
    "ExecuteTime": {
     "end_time": "2021-11-28T14:57:39.684906Z",
     "start_time": "2021-11-28T14:57:39.672717Z"
    }
   },
   "outputs": [],
   "source": [
    "def GRS_test(factor, resid, alpha):\n",
    "    N = resid.shape[1]        \n",
    "    T = resid.shape[0]       \n",
    "    L = factor.shape[1]      \n",
    "\n",
    "    if (T-N-L) < 0:\n",
    "        print('can not conduct GRS test because T-N-L<0')\n",
    "        return\n",
    "\n",
    "    factor = np.asmatrix(factor)                   # factor matrix (T, L)\n",
    "    resid = np.asmatrix(resid)                     # residual matrix (T, N)\n",
    "    alpha = np.asmatrix(alpha).reshape(N, 1)       # intercept matrix (N, 1)\n",
    "\n",
    "    mean_return_factor = (factor.mean(axis=0))\n",
    "\n",
    "    # covariance matrix of residuals\n",
    "    cov_resid = (resid.T * resid) / (T-L-1)\n",
    "    # covariance matrix of factors\n",
    "    cov_factor = ((factor - mean_return_factor).T * (factor - mean_return_factor)) / (T-1)\n",
    "\n",
    "    mean_return_factor = mean_return_factor.reshape(L, 1)\n",
    "\n",
    "    # GRS statistic\n",
    "    f_grs = float((T/N) * ((T-N-L)/(T-L-1)) * ((alpha.T * np.linalg.inv(cov_resid) * alpha) / (1 + mean_return_factor.T * np.linalg.inv(cov_factor) * mean_return_factor)))\n",
    "\n",
    "    # p-value\n",
    "    p_grs = 1 - st.f.cdf(f_grs, N, (T-N-L))\n",
    "\n",
    "    return f_grs, p_grs"
   ]
  },
  {
   "cell_type": "code",
   "execution_count": 30,
   "metadata": {
    "ExecuteTime": {
     "end_time": "2021-11-28T14:44:52.814646Z",
     "start_time": "2021-11-28T14:44:52.801083Z"
    }
   },
   "outputs": [],
   "source": [
    "reg_table['EW_rf'] = reg_table['ew'] - reg_table['MonRFRet']\n",
    "mod = smf.ols(formula=' EW_rf ~ 1 + Rmrf_tmv', data=reg_table)\n",
    "reg_res = mod.fit()"
   ]
  },
  {
   "cell_type": "code",
   "execution_count": 32,
   "metadata": {
    "ExecuteTime": {
     "end_time": "2021-11-28T14:45:21.769846Z",
     "start_time": "2021-11-28T14:45:21.715566Z"
    }
   },
   "outputs": [
    {
     "data": {
      "text/html": [
       "<table class=\"simpletable\">\n",
       "<caption>OLS Regression Results</caption>\n",
       "<tr>\n",
       "  <th>Dep. Variable:</th>          <td>EW_rf</td>      <th>  R-squared:         </th> <td>   0.027</td>\n",
       "</tr>\n",
       "<tr>\n",
       "  <th>Model:</th>                   <td>OLS</td>       <th>  Adj. R-squared:    </th> <td>   0.022</td>\n",
       "</tr>\n",
       "<tr>\n",
       "  <th>Method:</th>             <td>Least Squares</td>  <th>  F-statistic:       </th> <td>   4.811</td>\n",
       "</tr>\n",
       "<tr>\n",
       "  <th>Date:</th>             <td>Sun, 28 Nov 2021</td> <th>  Prob (F-statistic):</th>  <td>0.0296</td> \n",
       "</tr>\n",
       "<tr>\n",
       "  <th>Time:</th>                 <td>22:45:21</td>     <th>  Log-Likelihood:    </th> <td>  330.85</td>\n",
       "</tr>\n",
       "<tr>\n",
       "  <th>No. Observations:</th>      <td>   174</td>      <th>  AIC:               </th> <td>  -657.7</td>\n",
       "</tr>\n",
       "<tr>\n",
       "  <th>Df Residuals:</th>          <td>   172</td>      <th>  BIC:               </th> <td>  -651.4</td>\n",
       "</tr>\n",
       "<tr>\n",
       "  <th>Df Model:</th>              <td>     1</td>      <th>                     </th>     <td> </td>   \n",
       "</tr>\n",
       "<tr>\n",
       "  <th>Covariance Type:</th>      <td>nonrobust</td>    <th>                     </th>     <td> </td>   \n",
       "</tr>\n",
       "</table>\n",
       "<table class=\"simpletable\">\n",
       "<tr>\n",
       "      <td></td>         <th>coef</th>     <th>std err</th>      <th>t</th>      <th>P>|t|</th>  <th>[0.025</th>    <th>0.975]</th>  \n",
       "</tr>\n",
       "<tr>\n",
       "  <th>Intercept</th> <td>    0.0028</td> <td>    0.003</td> <td>    1.009</td> <td> 0.315</td> <td>   -0.003</td> <td>    0.008</td>\n",
       "</tr>\n",
       "<tr>\n",
       "  <th>Rmrf_tmv</th>  <td>    0.0687</td> <td>    0.031</td> <td>    2.193</td> <td> 0.030</td> <td>    0.007</td> <td>    0.130</td>\n",
       "</tr>\n",
       "</table>\n",
       "<table class=\"simpletable\">\n",
       "<tr>\n",
       "  <th>Omnibus:</th>       <td> 1.263</td> <th>  Durbin-Watson:     </th> <td>   2.065</td>\n",
       "</tr>\n",
       "<tr>\n",
       "  <th>Prob(Omnibus):</th> <td> 0.532</td> <th>  Jarque-Bera (JB):  </th> <td>   0.885</td>\n",
       "</tr>\n",
       "<tr>\n",
       "  <th>Skew:</th>          <td> 0.116</td> <th>  Prob(JB):          </th> <td>   0.642</td>\n",
       "</tr>\n",
       "<tr>\n",
       "  <th>Kurtosis:</th>      <td> 3.262</td> <th>  Cond. No.          </th> <td>    11.4</td>\n",
       "</tr>\n",
       "</table><br/><br/>Notes:<br/>[1] Standard Errors assume that the covariance matrix of the errors is correctly specified."
      ],
      "text/plain": [
       "<class 'statsmodels.iolib.summary.Summary'>\n",
       "\"\"\"\n",
       "                            OLS Regression Results                            \n",
       "==============================================================================\n",
       "Dep. Variable:                  EW_rf   R-squared:                       0.027\n",
       "Model:                            OLS   Adj. R-squared:                  0.022\n",
       "Method:                 Least Squares   F-statistic:                     4.811\n",
       "Date:                Sun, 28 Nov 2021   Prob (F-statistic):             0.0296\n",
       "Time:                        22:45:21   Log-Likelihood:                 330.85\n",
       "No. Observations:                 174   AIC:                            -657.7\n",
       "Df Residuals:                     172   BIC:                            -651.4\n",
       "Df Model:                           1                                         \n",
       "Covariance Type:            nonrobust                                         \n",
       "==============================================================================\n",
       "                 coef    std err          t      P>|t|      [0.025      0.975]\n",
       "------------------------------------------------------------------------------\n",
       "Intercept      0.0028      0.003      1.009      0.315      -0.003       0.008\n",
       "Rmrf_tmv       0.0687      0.031      2.193      0.030       0.007       0.130\n",
       "==============================================================================\n",
       "Omnibus:                        1.263   Durbin-Watson:                   2.065\n",
       "Prob(Omnibus):                  0.532   Jarque-Bera (JB):                0.885\n",
       "Skew:                           0.116   Prob(JB):                        0.642\n",
       "Kurtosis:                       3.262   Cond. No.                         11.4\n",
       "==============================================================================\n",
       "\n",
       "Notes:\n",
       "[1] Standard Errors assume that the covariance matrix of the errors is correctly specified.\n",
       "\"\"\""
      ]
     },
     "execution_count": 32,
     "metadata": {},
     "output_type": "execute_result"
    }
   ],
   "source": [
    "reg_res.summary()"
   ]
  },
  {
   "cell_type": "code",
   "execution_count": 49,
   "metadata": {
    "ExecuteTime": {
     "end_time": "2021-11-28T14:57:56.045866Z",
     "start_time": "2021-11-28T14:57:56.037225Z"
    }
   },
   "outputs": [],
   "source": [
    "resid_matrix = pd.DataFrame(reg_res.resid).values\n",
    "factors_matrix = reg_table[['Rmrf_tmv']].values\n",
    "alpha_matrix = pd.DataFrame([reg_res.params['Intercept']]).values"
   ]
  },
  {
   "cell_type": "code",
   "execution_count": 55,
   "metadata": {
    "ExecuteTime": {
     "end_time": "2021-11-28T15:01:03.583542Z",
     "start_time": "2021-11-28T15:01:03.578041Z"
    }
   },
   "outputs": [],
   "source": [
    "grs_stat, p_values = GRS_test(factors_matrix, resid_matrix, alpha_matrix)"
   ]
  },
  {
   "cell_type": "code",
   "execution_count": 56,
   "metadata": {
    "ExecuteTime": {
     "end_time": "2021-11-28T15:01:06.256369Z",
     "start_time": "2021-11-28T15:01:06.250645Z"
    }
   },
   "outputs": [
    {
     "data": {
      "text/plain": [
       "1.0174384078336838"
      ]
     },
     "execution_count": 56,
     "metadata": {},
     "output_type": "execute_result"
    }
   ],
   "source": [
    "grs_stat"
   ]
  },
  {
   "cell_type": "code",
   "execution_count": 59,
   "metadata": {
    "ExecuteTime": {
     "end_time": "2021-12-01T12:03:05.176959Z",
     "start_time": "2021-12-01T12:03:05.168199Z"
    }
   },
   "outputs": [
    {
     "data": {
      "text/plain": [
       "0.31454428750536734"
      ]
     },
     "execution_count": 59,
     "metadata": {},
     "output_type": "execute_result"
    }
   ],
   "source": [
    "p_values"
   ]
  },
  {
   "cell_type": "code",
   "execution_count": null,
   "metadata": {},
   "outputs": [],
   "source": []
  }
 ],
 "metadata": {
  "kernelspec": {
   "display_name": "Python 3",
   "language": "python",
   "name": "python3"
  },
  "language_info": {
   "codemirror_mode": {
    "name": "ipython",
    "version": 3
   },
   "file_extension": ".py",
   "mimetype": "text/x-python",
   "name": "python",
   "nbconvert_exporter": "python",
   "pygments_lexer": "ipython3",
   "version": "3.8.10"
  }
 },
 "nbformat": 4,
 "nbformat_minor": 4
}
